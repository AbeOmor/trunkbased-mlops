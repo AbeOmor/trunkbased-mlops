{
 "cells": [
  {
   "cell_type": "markdown",
   "id": "c1fb6617",
   "metadata": {},
   "source": [
    "# Running model training"
   ]
  },
  {
   "cell_type": "markdown",
   "id": "0d9ffe98",
   "metadata": {},
   "source": [
    "The following line will move the notebook to the root directory of the project"
   ]
  },
  {
   "cell_type": "code",
   "execution_count": 1,
   "id": "ba60426d",
   "metadata": {},
   "outputs": [
    {
     "name": "stdout",
     "output_type": "stream",
     "text": [
      "/home/santiagxf/repos/projects/gloria-relatus/services/post-processing/source/src\n"
     ]
    }
   ],
   "source": [
    "cd ../src"
   ]
  },
  {
   "cell_type": "markdown",
   "id": "f2905da3",
   "metadata": {},
   "source": [
    "## Running the training routine"
   ]
  },
  {
   "cell_type": "code",
   "execution_count": 5,
   "id": "a86cb8c2",
   "metadata": {},
   "outputs": [],
   "source": [
    "from common.jobs.arguments import yml2config\n",
    "from hatedetection.train.trainer import train_and_evaluate"
   ]
  },
  {
   "cell_type": "code",
   "execution_count": null,
   "id": "27f738b9",
   "metadata": {},
   "outputs": [],
   "source": [
    "results = train_and_evaluate(input_dataset='../datasets/portuguese-hate-speech-tweets/data/2019-05-28_portuguese_hate_speech_hierarchical_classification.csv',\n",
    "                             eval_dataset='../datasets/portuguese-hate-speech-tweets-eval/data/*.csv',\n",
    "                             params=yml2config('../jobs/hatedetection/train.params.yml'))"
   ]
  },
  {
   "cell_type": "markdown",
   "id": "5a9f6f4f",
   "metadata": {},
   "source": [
    "## Running using the task framework"
   ]
  },
  {
   "cell_type": "code",
   "execution_count": 6,
   "id": "22858e60",
   "metadata": {},
   "outputs": [],
   "source": [
    "from common.jobs.arguments import TaskArguments\n",
    "from hatedetection.train.trainer import train_and_evaluate"
   ]
  },
  {
   "cell_type": "code",
   "execution_count": 7,
   "id": "f30e2561",
   "metadata": {},
   "outputs": [],
   "source": [
    "task_config = TaskArguments(input_dataset='../datasets/portuguese-hate-speech-tweets/data/2019-05-28_portuguese_hate_speech_hierarchical_classification.csv',\n",
    "                            eval_dataset='../datasets/portuguese-hate-speech-tweets-eval/data/*.csv',\n",
    "                            task='../jobs/hatedetection/train.params.yml')"
   ]
  },
  {
   "cell_type": "code",
   "execution_count": null,
   "id": "d7167825",
   "metadata": {},
   "outputs": [
    {
     "name": "stderr",
     "output_type": "stream",
     "text": [
      "***** Running training *****\n",
      "  Num examples = 52\n",
      "  Num Epochs = 3\n",
      "  Instantaneous batch size per device = 64\n",
      "  Total train batch size (w. parallel, distributed & accumulation) = 64\n",
      "  Gradient Accumulation steps = 1\n",
      "  Total optimization steps = 3\n"
     ]
    }
   ],
   "source": [
    "from common.jobs.runner import TaskRunner\n",
    "\n",
    "tr = TaskRunner(args=task_config)\n",
    "tr.run_and_log(train_and_evaluate)"
   ]
  }
 ],
 "metadata": {
  "kernelspec": {
   "display_name": "Python (transformers-torch-19-dev)",
   "language": "python",
   "name": "transformers-torch-19-dev"
  },
  "language_info": {
   "codemirror_mode": {
    "name": "ipython",
    "version": 3
   },
   "file_extension": ".py",
   "mimetype": "text/x-python",
   "name": "python",
   "nbconvert_exporter": "python",
   "pygments_lexer": "ipython3",
   "version": "3.8.12"
  }
 },
 "nbformat": 4,
 "nbformat_minor": 5
}
