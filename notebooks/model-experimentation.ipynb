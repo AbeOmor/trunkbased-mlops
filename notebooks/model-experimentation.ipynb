{
 "cells": [
  {
   "cell_type": "markdown",
   "id": "c1fb6617",
   "metadata": {},
   "source": [
    "# Running the model locally"
   ]
  },
  {
   "cell_type": "markdown",
   "id": "0d9ffe98",
   "metadata": {},
   "source": [
    "The following line will move the notebook to the root directory of the project"
   ]
  },
  {
   "cell_type": "code",
   "execution_count": 2,
   "id": "ba60426d",
   "metadata": {},
   "outputs": [
    {
     "name": "stdout",
     "output_type": "stream",
     "text": [
      "/home/santiagxf/repos/projects/gloria-relatus/services/post-processing/source/src\n"
     ]
    }
   ],
   "source": [
    "cd ../src"
   ]
  },
  {
   "cell_type": "markdown",
   "id": "65ef7377",
   "metadata": {},
   "source": [
    "## Authenticating against Azure"
   ]
  },
  {
   "cell_type": "code",
   "execution_count": 3,
   "id": "1c269799",
   "metadata": {},
   "outputs": [],
   "source": [
    "from azureml.core.workspace import Workspace\n",
    "from azureml.core.authentication import InteractiveLoginAuthentication"
   ]
  },
  {
   "cell_type": "code",
   "execution_count": 4,
   "id": "a22387de",
   "metadata": {},
   "outputs": [
    {
     "name": "stderr",
     "output_type": "stream",
     "text": [
      "Warning: Falling back to use azure cli login credentials.\n",
      "If you run your code in unattended mode, i.e., where you can't give a user input, then we recommend to use ServicePrincipalAuthentication or MsiAuthentication.\n",
      "Please refer to aka.ms/aml-notebook-auth for different authentication mechanisms in azureml-sdk.\n"
     ]
    }
   ],
   "source": [
    "interactive_auth = InteractiveLoginAuthentication(tenant_id=\"b2fbd4a8-a281-4bb1-b839-f18277513787\")"
   ]
  },
  {
   "cell_type": "code",
   "execution_count": 5,
   "id": "96fb898a",
   "metadata": {},
   "outputs": [],
   "source": [
    "ws = Workspace.from_config(path='../workspaces/dev/workspace.json', auth=interactive_auth)"
   ]
  },
  {
   "cell_type": "markdown",
   "id": "f2905da3",
   "metadata": {},
   "source": [
    "## Running the model"
   ]
  },
  {
   "cell_type": "code",
   "execution_count": 6,
   "id": "22858e60",
   "metadata": {},
   "outputs": [],
   "source": [
    "import hatedetection.score.score_transformer as scorer"
   ]
  },
  {
   "cell_type": "markdown",
   "id": "b6a665a3",
   "metadata": {},
   "source": [
    "We re indicating `from_workspace` to indicate that this model is running locally, and `ws` indicates the workspace from where the model will be pulled from:"
   ]
  },
  {
   "cell_type": "code",
   "execution_count": 7,
   "id": "14a82453",
   "metadata": {},
   "outputs": [
    {
     "name": "stderr",
     "output_type": "stream",
     "text": [
      "WARNING:root:[WARN] Opening model from workspace\n"
     ]
    }
   ],
   "source": [
    "scorer.init(from_workspace=True, workspace=ws)"
   ]
  },
  {
   "cell_type": "markdown",
   "id": "f453c36f",
   "metadata": {},
   "source": [
    "> Note: This may take a while since the model is quite big (1.24 GB)"
   ]
  },
  {
   "cell_type": "markdown",
   "id": "3349fdb1",
   "metadata": {},
   "source": [
    "Loading some data:"
   ]
  },
  {
   "cell_type": "code",
   "execution_count": 8,
   "id": "bd1a33bf",
   "metadata": {},
   "outputs": [],
   "source": [
    "import pandas as pd"
   ]
  },
  {
   "cell_type": "code",
   "execution_count": 13,
   "id": "96b11fd1",
   "metadata": {},
   "outputs": [],
   "source": [
    "df = pd.read_csv('../datasets/relatus-hate-speech-text/data/speechs-sample.csv').drop(columns=['hate']).loc[:5]"
   ]
  },
  {
   "cell_type": "markdown",
   "id": "e8128751",
   "metadata": {},
   "source": [
    "Running the model:"
   ]
  },
  {
   "cell_type": "code",
   "execution_count": 14,
   "id": "f15dbcb2",
   "metadata": {},
   "outputs": [
    {
     "data": {
      "text/plain": [
       "[0.6059866547584534,\n",
       " 0.30062082409858704,\n",
       " 0.4073381721973419,\n",
       " 0.6878570318222046,\n",
       " 0.2586149275302887,\n",
       " 0.6854346394538879]"
      ]
     },
     "execution_count": 14,
     "metadata": {},
     "output_type": "execute_result"
    }
   ],
   "source": [
    "scorer.run(raw_data = df)"
   ]
  },
  {
   "cell_type": "code",
   "execution_count": null,
   "id": "b0ef4bdd",
   "metadata": {},
   "outputs": [],
   "source": []
  }
 ],
 "metadata": {
  "kernelspec": {
   "display_name": "Python (transformers-torch-19-dev)",
   "language": "python",
   "name": "transformers-torch-19-dev"
  },
  "language_info": {
   "codemirror_mode": {
    "name": "ipython",
    "version": 3
   },
   "file_extension": ".py",
   "mimetype": "text/x-python",
   "name": "python",
   "nbconvert_exporter": "python",
   "pygments_lexer": "ipython3",
   "version": "3.8.12"
  }
 },
 "nbformat": 4,
 "nbformat_minor": 5
}
